{
 "cells": [
  {
   "cell_type": "code",
   "execution_count": 9,
   "id": "f9d358a8",
   "metadata": {},
   "outputs": [],
   "source": [
    "import numpy as np\n",
    "import re\n",
    "import os\n",
    "import pandas as pd \n",
    "from nltk.tokenize import RegexpTokenizer, sent_tokenize\n",
    "from urllib.request import urlopen\n",
    "from bs4 import BeautifulSoup\n",
    "from fake_useragent import UserAgent\n",
    "import requests\n"
   ]
  },
  {
   "cell_type": "code",
   "execution_count": 10,
   "id": "93e51aec",
   "metadata": {},
   "outputs": [],
   "source": [
    "stop_word_file = '/blackcoffer/StopWords/StopWords_Generic.txt'"
   ]
  },
  {
   "cell_type": "code",
   "execution_count": 11,
   "id": "a329067c",
   "metadata": {},
   "outputs": [],
   "source": [
    "positive_words_file = '/blackcoffer/MasterDictionary/positive-words.txt'"
   ]
  },
  {
   "cell_type": "code",
   "execution_count": 12,
   "id": "7ee6d3c8",
   "metadata": {},
   "outputs": [],
   "source": [
    "negative_word_file = '/blackcoffer/MasterDictionary/negative-words.txt'"
   ]
  },
  {
   "cell_type": "code",
   "execution_count": 13,
   "id": "2e1e6080",
   "metadata": {},
   "outputs": [],
   "source": [
    "pd.set_option('display.max_colwidth', None)"
   ]
  },
  {
   "cell_type": "code",
   "execution_count": 14,
   "id": "415f6438",
   "metadata": {},
   "outputs": [
    {
     "data": {
      "text/html": [
       "<div>\n",
       "<style scoped>\n",
       "    .dataframe tbody tr th:only-of-type {\n",
       "        vertical-align: middle;\n",
       "    }\n",
       "\n",
       "    .dataframe tbody tr th {\n",
       "        vertical-align: top;\n",
       "    }\n",
       "\n",
       "    .dataframe thead th {\n",
       "        text-align: right;\n",
       "    }\n",
       "</style>\n",
       "<table border=\"1\" class=\"dataframe\">\n",
       "  <thead>\n",
       "    <tr style=\"text-align: right;\">\n",
       "      <th></th>\n",
       "      <th>URL_ID</th>\n",
       "      <th>URL</th>\n",
       "      <th>POSITIVE SCORE</th>\n",
       "      <th>NEGATIVE SCORE</th>\n",
       "      <th>POLARITY SCORE</th>\n",
       "      <th>SUBJECTIVITY SCORE</th>\n",
       "      <th>AVG SENTENCE LENGTH</th>\n",
       "      <th>PERCENTAGE OF COMPLEX WORDS</th>\n",
       "      <th>FOG INDEX</th>\n",
       "      <th>AVG NUMBER OF WORDS PER SENTENCE</th>\n",
       "      <th>COMPLEX WORD COUNT</th>\n",
       "      <th>WORD COUNT</th>\n",
       "      <th>SYLLABLE PER WORD</th>\n",
       "      <th>PERSONAL PRONOUNS</th>\n",
       "      <th>AVG WORD LENGTH</th>\n",
       "    </tr>\n",
       "  </thead>\n",
       "  <tbody>\n",
       "    <tr>\n",
       "      <th>0</th>\n",
       "      <td>37</td>\n",
       "      <td>https://insights.blackcoffer.com/ai-in-healthcare-to-improve-patient-outcomes/</td>\n",
       "      <td>NaN</td>\n",
       "      <td>NaN</td>\n",
       "      <td>NaN</td>\n",
       "      <td>NaN</td>\n",
       "      <td>NaN</td>\n",
       "      <td>NaN</td>\n",
       "      <td>NaN</td>\n",
       "      <td>NaN</td>\n",
       "      <td>NaN</td>\n",
       "      <td>NaN</td>\n",
       "      <td>NaN</td>\n",
       "      <td>NaN</td>\n",
       "      <td>NaN</td>\n",
       "    </tr>\n",
       "    <tr>\n",
       "      <th>1</th>\n",
       "      <td>38</td>\n",
       "      <td>https://insights.blackcoffer.com/what-if-the-creation-is-taking-over-the-creator/</td>\n",
       "      <td>NaN</td>\n",
       "      <td>NaN</td>\n",
       "      <td>NaN</td>\n",
       "      <td>NaN</td>\n",
       "      <td>NaN</td>\n",
       "      <td>NaN</td>\n",
       "      <td>NaN</td>\n",
       "      <td>NaN</td>\n",
       "      <td>NaN</td>\n",
       "      <td>NaN</td>\n",
       "      <td>NaN</td>\n",
       "      <td>NaN</td>\n",
       "      <td>NaN</td>\n",
       "    </tr>\n",
       "    <tr>\n",
       "      <th>2</th>\n",
       "      <td>39</td>\n",
       "      <td>https://insights.blackcoffer.com/what-jobs-will-robots-take-from-humans-in-the-future/</td>\n",
       "      <td>NaN</td>\n",
       "      <td>NaN</td>\n",
       "      <td>NaN</td>\n",
       "      <td>NaN</td>\n",
       "      <td>NaN</td>\n",
       "      <td>NaN</td>\n",
       "      <td>NaN</td>\n",
       "      <td>NaN</td>\n",
       "      <td>NaN</td>\n",
       "      <td>NaN</td>\n",
       "      <td>NaN</td>\n",
       "      <td>NaN</td>\n",
       "      <td>NaN</td>\n",
       "    </tr>\n",
       "    <tr>\n",
       "      <th>3</th>\n",
       "      <td>40</td>\n",
       "      <td>https://insights.blackcoffer.com/will-machine-replace-the-human-in-the-future-of-work/</td>\n",
       "      <td>NaN</td>\n",
       "      <td>NaN</td>\n",
       "      <td>NaN</td>\n",
       "      <td>NaN</td>\n",
       "      <td>NaN</td>\n",
       "      <td>NaN</td>\n",
       "      <td>NaN</td>\n",
       "      <td>NaN</td>\n",
       "      <td>NaN</td>\n",
       "      <td>NaN</td>\n",
       "      <td>NaN</td>\n",
       "      <td>NaN</td>\n",
       "      <td>NaN</td>\n",
       "    </tr>\n",
       "    <tr>\n",
       "      <th>4</th>\n",
       "      <td>41</td>\n",
       "      <td>https://insights.blackcoffer.com/will-ai-replace-us-or-work-with-us/</td>\n",
       "      <td>NaN</td>\n",
       "      <td>NaN</td>\n",
       "      <td>NaN</td>\n",
       "      <td>NaN</td>\n",
       "      <td>NaN</td>\n",
       "      <td>NaN</td>\n",
       "      <td>NaN</td>\n",
       "      <td>NaN</td>\n",
       "      <td>NaN</td>\n",
       "      <td>NaN</td>\n",
       "      <td>NaN</td>\n",
       "      <td>NaN</td>\n",
       "      <td>NaN</td>\n",
       "    </tr>\n",
       "  </tbody>\n",
       "</table>\n",
       "</div>"
      ],
      "text/plain": [
       "   URL_ID  \\\n",
       "0      37   \n",
       "1      38   \n",
       "2      39   \n",
       "3      40   \n",
       "4      41   \n",
       "\n",
       "                                                                                      URL  \\\n",
       "0          https://insights.blackcoffer.com/ai-in-healthcare-to-improve-patient-outcomes/   \n",
       "1       https://insights.blackcoffer.com/what-if-the-creation-is-taking-over-the-creator/   \n",
       "2  https://insights.blackcoffer.com/what-jobs-will-robots-take-from-humans-in-the-future/   \n",
       "3  https://insights.blackcoffer.com/will-machine-replace-the-human-in-the-future-of-work/   \n",
       "4                    https://insights.blackcoffer.com/will-ai-replace-us-or-work-with-us/   \n",
       "\n",
       "   POSITIVE SCORE  NEGATIVE SCORE  POLARITY SCORE  SUBJECTIVITY SCORE  \\\n",
       "0             NaN             NaN             NaN                 NaN   \n",
       "1             NaN             NaN             NaN                 NaN   \n",
       "2             NaN             NaN             NaN                 NaN   \n",
       "3             NaN             NaN             NaN                 NaN   \n",
       "4             NaN             NaN             NaN                 NaN   \n",
       "\n",
       "   AVG SENTENCE LENGTH  PERCENTAGE OF COMPLEX WORDS  FOG INDEX  \\\n",
       "0                  NaN                          NaN        NaN   \n",
       "1                  NaN                          NaN        NaN   \n",
       "2                  NaN                          NaN        NaN   \n",
       "3                  NaN                          NaN        NaN   \n",
       "4                  NaN                          NaN        NaN   \n",
       "\n",
       "   AVG NUMBER OF WORDS PER SENTENCE  COMPLEX WORD COUNT  WORD COUNT  \\\n",
       "0                               NaN                 NaN         NaN   \n",
       "1                               NaN                 NaN         NaN   \n",
       "2                               NaN                 NaN         NaN   \n",
       "3                               NaN                 NaN         NaN   \n",
       "4                               NaN                 NaN         NaN   \n",
       "\n",
       "   SYLLABLE PER WORD  PERSONAL PRONOUNS  AVG WORD LENGTH  \n",
       "0                NaN                NaN              NaN  \n",
       "1                NaN                NaN              NaN  \n",
       "2                NaN                NaN              NaN  \n",
       "3                NaN                NaN              NaN  \n",
       "4                NaN                NaN              NaN  "
      ]
     },
     "execution_count": 14,
     "metadata": {},
     "output_type": "execute_result"
    }
   ],
   "source": [
    "input = pd.read_excel('/blackcoffer/Output Data Structure.xlsx')\n",
    "input.head()"
   ]
  },
  {
   "cell_type": "code",
   "execution_count": 15,
   "id": "a33444c6",
   "metadata": {},
   "outputs": [],
   "source": [
    "urls = input['URL']"
   ]
  },
  {
   "cell_type": "code",
   "execution_count": 16,
   "id": "74f22733",
   "metadata": {},
   "outputs": [],
   "source": [
    "def GetArticleNames(urls):\n",
    "    titles = []\n",
    "    \n",
    "    for i in range(len(urls)):\n",
    "        title = urls[i]\n",
    "        title_clean = title[title.index('m/' )+ 2 : -1].replace('-', ' ')\n",
    "        titles.append(title_clean)\n",
    "    return titles"
   ]
  },
  {
   "cell_type": "code",
   "execution_count": 17,
   "id": "458978dd",
   "metadata": {},
   "outputs": [],
   "source": [
    "titles = GetArticleNames(urls)"
   ]
  },
  {
   "cell_type": "code",
   "execution_count": 22,
   "id": "7051a66d",
   "metadata": {},
   "outputs": [],
   "source": [
    "text = []\n",
    "for url in urls:\n",
    "    \n",
    "    page = requests.get(url, headers = {\"User-Agent\":\"XY\"})\n",
    "    soup = BeautifulSoup(page.text , 'html.parser')\n",
    "\n",
    "    try:\n",
    "        s_text = soup . find(attrs = { 'class' : 'td-post-content'}).get_text()\n",
    "    except Exception:\n",
    "        s_text = \"\"\n",
    "    \n",
    "    text.append(s_text)"
   ]
  },
  {
   "cell_type": "code",
   "execution_count": 23,
   "id": "c10ef49c",
   "metadata": {},
   "outputs": [],
   "source": [
    "text_transform = []\n",
    "for i in range(len(text)):\n",
    "    text_transform.append(text[i].replace('\\n', ' '))"
   ]
  },
  {
   "cell_type": "code",
   "execution_count": 25,
   "id": "f33e7f4e",
   "metadata": {},
   "outputs": [],
   "source": [
    "words = []\n",
    "for url in urls:\n",
    "    page = requests.get(url, headers = {\"User-Agent\":\"XY\"})\n",
    "    soup = BeautifulSoup(page.text , 'html.parser')\n",
    "    \n",
    "    # getting Title of the web page\n",
    "    try:\n",
    "        title = soup . find('h1', attrs = { 'class' : 'entry-title'}).get_text()\n",
    "    except Exception:\n",
    "        title = \"\" \n",
    "    \n",
    "    # getting article text \n",
    "    try:\n",
    "        text = soup . find(attrs = { 'class' : 'td-post-content'}).get_text()\n",
    "    except Exception:\n",
    "        text = \"\"\n",
    "    # break into lines and remove leading and trailing space on each\n",
    "    lines = (line.strip() for line in text.splitlines())\n",
    "    \n",
    "    # break multi-headlines into line each\n",
    "    chunks = (pharse.strip() for line in lines for pharse in line.split(' '))\n",
    "    \n",
    "    # drop blank lines\n",
    "    text = \"\\n\".join(chunk for chunk in chunks if chunk)\n",
    "    words.append(text)"
   ]
  },
  {
   "cell_type": "code",
   "execution_count": 26,
   "id": "f857fae4",
   "metadata": {},
   "outputs": [
    {
     "data": {
      "text/plain": [
       "['a+', 'abound', 'abounds', 'abundance', 'abundant']"
      ]
     },
     "execution_count": 26,
     "metadata": {},
     "output_type": "execute_result"
    }
   ],
   "source": [
    "with open(positive_words_file, \"r\") as pos_file:\n",
    "    positive_words = pos_file.read().lower()\n",
    "positive_word_list = positive_words.split('\\n')\n",
    "\n",
    "positive_word_list[:5]"
   ]
  },
  {
   "cell_type": "code",
   "execution_count": 27,
   "id": "99133e68",
   "metadata": {},
   "outputs": [
    {
     "data": {
      "text/plain": [
       "['2-faced', '2-faces', 'abnormal', 'abolish', 'abominable']"
      ]
     },
     "execution_count": 27,
     "metadata": {},
     "output_type": "execute_result"
    }
   ],
   "source": [
    "with open(negative_word_file, 'r', encoding=\"ISO-8859-1\") as neg_file:\n",
    "    negative_words= neg_file.read().lower()\n",
    "negative_word_list = negative_words.split('\\n')\n",
    "\n",
    "negative_word_list[:5]"
   ]
  },
  {
   "cell_type": "code",
   "execution_count": 28,
   "id": "f13645d9",
   "metadata": {},
   "outputs": [
    {
     "data": {
      "text/plain": [
       "['about', 'above', 'after', 'again', 'all']"
      ]
     },
     "execution_count": 28,
     "metadata": {},
     "output_type": "execute_result"
    }
   ],
   "source": [
    "with open(stop_word_file,'r') as stop_word_file:\n",
    "    stop_words = stop_word_file.read().lower()\n",
    "stop_word_list = stop_words.split('\\n')\n",
    "\n",
    "stop_word_list[:5]"
   ]
  },
  {
   "cell_type": "code",
   "execution_count": 29,
   "id": "45f16c82",
   "metadata": {},
   "outputs": [],
   "source": [
    "def Tokenizer(text):\n",
    "    text = text.lower()\n",
    "    tokenizer = RegexpTokenizer(r'\\w+')\n",
    "    tokens = tokenizer.tokenize(text)\n",
    "    filtered_words = list(filter(lambda token: token not in stop_word_list, tokens))\n",
    "    return filtered_words"
   ]
  },
  {
   "cell_type": "code",
   "execution_count": 30,
   "id": "3a7ff37f",
   "metadata": {},
   "outputs": [
    {
     "data": {
      "text/plain": [
       "['introduction', 'anything', 'kills', '10', 'million']"
      ]
     },
     "execution_count": 30,
     "metadata": {},
     "output_type": "execute_result"
    }
   ],
   "source": [
    "Tokenizer(text_transform[0])[:5]"
   ]
  },
  {
   "cell_type": "code",
   "execution_count": 32,
   "id": "a457f47f",
   "metadata": {},
   "outputs": [],
   "source": [
    "def FilterWords(text):\n",
    "    words = []\n",
    "    \n",
    "    for i in range(len(text)):\n",
    "        word = Tokenizer(text[i])\n",
    "        words.append(word)\n",
    "    return words"
   ]
  },
  {
   "cell_type": "code",
   "execution_count": 33,
   "id": "16ade61a",
   "metadata": {},
   "outputs": [
    {
     "data": {
      "text/plain": [
       "['introduction', 'anything', 'kills', '10', 'million']"
      ]
     },
     "execution_count": 33,
     "metadata": {},
     "output_type": "execute_result"
    }
   ],
   "source": [
    "text_list= FilterWords(text_transform)\n",
    "text_list[0][:5]"
   ]
  },
  {
   "cell_type": "code",
   "execution_count": 123,
   "id": "416a14cd",
   "metadata": {},
   "outputs": [
    {
     "data": {
      "text/plain": [
       "114"
      ]
     },
     "execution_count": 123,
     "metadata": {},
     "output_type": "execute_result"
    }
   ],
   "source": [
    "len(text)"
   ]
  },
  {
   "cell_type": "code",
   "execution_count": 151,
   "id": "f34bff0c",
   "metadata": {},
   "outputs": [],
   "source": [
    "words_count = []\n",
    "for i in range(len(text_list)):\n",
    "    word_count = len(text_list[i])\n",
    "    words_count.append(word_count)"
   ]
  },
  {
   "cell_type": "code",
   "execution_count": 150,
   "id": "6e5421dc",
   "metadata": {},
   "outputs": [
    {
     "data": {
      "text/plain": [
       "1205"
      ]
     },
     "execution_count": 150,
     "metadata": {},
     "output_type": "execute_result"
    }
   ],
   "source": [
    "words_count[0]"
   ]
  },
  {
   "cell_type": "code",
   "execution_count": null,
   "id": "c1af0472",
   "metadata": {},
   "outputs": [],
   "source": []
  },
  {
   "cell_type": "code",
   "execution_count": null,
   "id": "6ea8cb39",
   "metadata": {},
   "outputs": [],
   "source": []
  },
  {
   "cell_type": "code",
   "execution_count": 36,
   "id": "06468a35",
   "metadata": {},
   "outputs": [],
   "source": [
    "def PositiveScore(text):\n",
    "    positive_score=[] \n",
    "    for i in range(len(text)):\n",
    "        pos_word = 0\n",
    "        for word in text[i]:\n",
    "            if word in positive_word_list:\n",
    "                pos_word +=1\n",
    "        positive_score.append(pos_word)\n",
    "    return positive_score"
   ]
  },
  {
   "cell_type": "code",
   "execution_count": 37,
   "id": "3ca46f92",
   "metadata": {},
   "outputs": [
    {
     "data": {
      "text/plain": [
       "82"
      ]
     },
     "execution_count": 37,
     "metadata": {},
     "output_type": "execute_result"
    }
   ],
   "source": [
    "positive_score = PositiveScore(text_list)\n",
    "positive_score[0]"
   ]
  },
  {
   "cell_type": "code",
   "execution_count": 38,
   "id": "ecb2fe78",
   "metadata": {},
   "outputs": [],
   "source": [
    "def NegativeScore(text):\n",
    "    negative_score=[] \n",
    "    for i in range(len(text)):\n",
    "        neg_word = 0\n",
    "        for word in text[i]:\n",
    "            if word in negative_word_list:\n",
    "                neg_word +=1\n",
    "        negative_score.append(neg_word)\n",
    "    return negative_score"
   ]
  },
  {
   "cell_type": "code",
   "execution_count": 39,
   "id": "1d968a9b",
   "metadata": {},
   "outputs": [
    {
     "data": {
      "text/plain": [
       "36"
      ]
     },
     "execution_count": 39,
     "metadata": {},
     "output_type": "execute_result"
    }
   ],
   "source": [
    "negative_score = NegativeScore(text_list)\n",
    "negative_score[0]"
   ]
  },
  {
   "cell_type": "code",
   "execution_count": 40,
   "id": "1e098d42",
   "metadata": {},
   "outputs": [],
   "source": [
    "def PolarityScore(positive_score, negative_score):\n",
    "    polarity_score = []\n",
    "    for i in range(len(positive_score)):\n",
    "        pol_score = (positive_score[i] - negative_score[i])/((positive_score[i] + negative_score[i])+0.000001)\n",
    "        polarity_score.append(pol_score)\n",
    "    return polarity_score"
   ]
  },
  {
   "cell_type": "code",
   "execution_count": 41,
   "id": "ab52f67f",
   "metadata": {},
   "outputs": [],
   "source": [
    "polarity_score = PolarityScore(positive_score, negative_score)"
   ]
  },
  {
   "cell_type": "code",
   "execution_count": 42,
   "id": "e4b459c0",
   "metadata": {},
   "outputs": [
    {
     "data": {
      "text/plain": [
       "0.38983050517092793"
      ]
     },
     "execution_count": 42,
     "metadata": {},
     "output_type": "execute_result"
    }
   ],
   "source": [
    "polarity_score[0]"
   ]
  },
  {
   "cell_type": "code",
   "execution_count": 43,
   "id": "67726956",
   "metadata": {},
   "outputs": [],
   "source": [
    "def SubjectivityScore(positive_score, negative_score, total_word_count):\n",
    "    subjectivity_score = []\n",
    "    for i in range(len(positive_score)):\n",
    "        sub_score = ((positive_score[i] + negative_score[i])/ ((total_word_count[i]) + 0.000001))\n",
    "        subjectivity_score.append(sub_score)\n",
    "    return subjectivity_score"
   ]
  },
  {
   "cell_type": "code",
   "execution_count": 44,
   "id": "55b0ead9",
   "metadata": {},
   "outputs": [],
   "source": [
    "subjectivity_score = SubjectivityScore(positive_score, negative_score, words_count)"
   ]
  },
  {
   "cell_type": "code",
   "execution_count": 45,
   "id": "6b384e46",
   "metadata": {},
   "outputs": [
    {
     "data": {
      "text/plain": [
       "0.09792531112205367"
      ]
     },
     "execution_count": 45,
     "metadata": {},
     "output_type": "execute_result"
    }
   ],
   "source": [
    "subjectivity_score[0]"
   ]
  },
  {
   "cell_type": "code",
   "execution_count": 46,
   "id": "afddfebe",
   "metadata": {},
   "outputs": [],
   "source": [
    "def SentenceCount(text):\n",
    "    sentence_count=[]\n",
    "    for i in range(len(text)):\n",
    "        sentences =  len(sent_tokenize(text[i]))\n",
    "        sentence_count.append(sentences)\n",
    "    return sentence_count"
   ]
  },
  {
   "cell_type": "code",
   "execution_count": 47,
   "id": "aad361cd",
   "metadata": {},
   "outputs": [],
   "source": [
    "sentence_count = SentenceCount(text_transform)"
   ]
  },
  {
   "cell_type": "code",
   "execution_count": 86,
   "id": "9d53e64c",
   "metadata": {},
   "outputs": [
    {
     "data": {
      "text/plain": [
       "114"
      ]
     },
     "execution_count": 86,
     "metadata": {},
     "output_type": "execute_result"
    }
   ],
   "source": [
    "len(sentence_count)"
   ]
  },
  {
   "cell_type": "code",
   "execution_count": 88,
   "id": "a7d5e0a8",
   "metadata": {},
   "outputs": [],
   "source": [
    "def AverageSentenceLength(words_count, sentence_count):\n",
    "    \n",
    "    Average_Sentence_Lenght=[]\n",
    "    for i in range(len(words_count)):\n",
    "        sent_count = sentence_count[i]\n",
    "        if sent_count > 0 : \n",
    "            avg_sent_len = round(words_count[i] / sentence_count[i])\n",
    "            Average_Sentence_Lenght.append(avg_sent_len)\n",
    "        else:\n",
    "            avg_sent_len = 0\n",
    "            Average_Sentence_Lenght.append(avg_sent_len)\n",
    "    return Average_Sentence_Lenght"
   ]
  },
  {
   "cell_type": "code",
   "execution_count": 89,
   "id": "57ea0541",
   "metadata": {},
   "outputs": [],
   "source": [
    "average_sentence_lenght = AverageSentenceLength(words_count, sentence_count)"
   ]
  },
  {
   "cell_type": "code",
   "execution_count": 90,
   "id": "daba989c",
   "metadata": {},
   "outputs": [
    {
     "data": {
      "text/plain": [
       "114"
      ]
     },
     "execution_count": 90,
     "metadata": {},
     "output_type": "execute_result"
    }
   ],
   "source": [
    "len(average_sentence_lenght)"
   ]
  },
  {
   "cell_type": "code",
   "execution_count": 52,
   "id": "25a4f0ff",
   "metadata": {},
   "outputs": [],
   "source": [
    "def ComplexWordCount(text):\n",
    "    complex_word_count =[]\n",
    "    for i in range(len(text)):\n",
    "        complexWord = 0\n",
    "\n",
    "        for word in text[i]:\n",
    "            vowels=0\n",
    "            if word.endswith(('es','ed')):\n",
    "                pass\n",
    "            else:\n",
    "                for w in word:\n",
    "                    if(w=='a' or w=='e' or w=='i' or w=='o' or w=='u'):\n",
    "                        vowels += 1\n",
    "                if(vowels > 2):\n",
    "                    complexWord += 1\n",
    "        complex_word_count.append(complexWord)\n",
    "    return complex_word_count"
   ]
  },
  {
   "cell_type": "code",
   "execution_count": 53,
   "id": "f686c032",
   "metadata": {},
   "outputs": [],
   "source": [
    "complex_word_count = ComplexWordCount(text_list)"
   ]
  },
  {
   "cell_type": "code",
   "execution_count": 54,
   "id": "61a57038",
   "metadata": {},
   "outputs": [
    {
     "data": {
      "text/plain": [
       "457"
      ]
     },
     "execution_count": 54,
     "metadata": {},
     "output_type": "execute_result"
    }
   ],
   "source": [
    "complex_word_count[2]"
   ]
  },
  {
   "cell_type": "code",
   "execution_count": 55,
   "id": "0e275e56",
   "metadata": {},
   "outputs": [],
   "source": [
    "def PercentageComplexWord(complex_word_count, words_count):\n",
    "    complex_word_percentage = []\n",
    "    \n",
    "    for i in range(len(words_count)):\n",
    "        if words_count[i] > 0 :\n",
    "            complex_word_percent = complex_word_count[i]/words_count[i]\n",
    "        else:\n",
    "            complex_word_percent = 0\n",
    "        complex_word_percentage.append(complex_word_percent)\n",
    "    \n",
    "    return complex_word_percentage\n"
   ]
  },
  {
   "cell_type": "code",
   "execution_count": 56,
   "id": "3cbf5085",
   "metadata": {},
   "outputs": [],
   "source": [
    "percentage_complex_word = PercentageComplexWord(complex_word_count, words_count)"
   ]
  },
  {
   "cell_type": "code",
   "execution_count": 57,
   "id": "c2298e75",
   "metadata": {},
   "outputs": [
    {
     "data": {
      "text/plain": [
       "0.4348547717842324"
      ]
     },
     "execution_count": 57,
     "metadata": {},
     "output_type": "execute_result"
    }
   ],
   "source": [
    "percentage_complex_word[0]"
   ]
  },
  {
   "cell_type": "code",
   "execution_count": 58,
   "id": "326de384",
   "metadata": {},
   "outputs": [],
   "source": [
    "def FogIndex(average_sentence_lenght, percentage_complex_word):\n",
    "    fog_index = []\n",
    "    for i in range(len(average_sentence_lenght)):\n",
    "        fogIndex = 0.4 * (average_sentence_lenght[i] + percentage_complex_word[i])\n",
    "        fog_index.append(fogIndex)\n",
    "    return fog_index"
   ]
  },
  {
   "cell_type": "code",
   "execution_count": 143,
   "id": "c901a641",
   "metadata": {},
   "outputs": [],
   "source": [
    "fog_index = FogIndex(average_sentence_lenght, percentage_complex_word)"
   ]
  },
  {
   "cell_type": "code",
   "execution_count": 60,
   "id": "73484024",
   "metadata": {},
   "outputs": [],
   "source": [
    "def SyllablesCount(text):\n",
    "    syllable_count = []\n",
    "    for i in range(len(text)):\n",
    "        count = 0\n",
    "        for j in range(len(text[i])):\n",
    "            \n",
    "            vowels = 'aeiouy'\n",
    "            starts = ['ou','ei','ae','ea','eu','oi']\n",
    "            endings = ['es','ed']\n",
    "            word = text[i][j].strip(\".:;?!\")\n",
    "            if word[0] in vowels:\n",
    "                count +=1\n",
    "            for index in range(1,len(word)):\n",
    "                if word[index] in vowels and word[index-1] not in vowels:\n",
    "                    count +=1\n",
    "            if word.endswith('e'):\n",
    "                count -= 1\n",
    "            if word.endswith('le'):\n",
    "                count+=1\n",
    "            if count == 0:\n",
    "                count +=1\n",
    "        syllable_count.append(count)\n",
    "    return syllable_count"
   ]
  },
  {
   "cell_type": "code",
   "execution_count": 154,
   "id": "b8c16b0a",
   "metadata": {},
   "outputs": [],
   "source": [
    "syllable_count = SyllablesCount(text_list)"
   ]
  },
  {
   "cell_type": "code",
   "execution_count": null,
   "id": "cdea07cf",
   "metadata": {},
   "outputs": [],
   "source": []
  },
  {
   "cell_type": "code",
   "execution_count": 104,
   "id": "a3f75da4",
   "metadata": {},
   "outputs": [],
   "source": [
    "def PresonalPronoun(words):\n",
    "    presonal_pronoun = []\n",
    "    for i in range(len(words)):\n",
    "        pronounRegex = re.compile(r'\\b(I|we|my|ours|(?-i:us))\\b',re.I)\n",
    "        pronouns = pronounRegex.findall(words[i])\n",
    "        presonal_pronoun.append(pronouns)\n",
    "    return presonal_pronoun"
   ]
  },
  {
   "cell_type": "code",
   "execution_count": 105,
   "id": "047987d2",
   "metadata": {},
   "outputs": [],
   "source": [
    "presonal_pronoun = PresonalPronoun(text_transform)"
   ]
  },
  {
   "cell_type": "code",
   "execution_count": 119,
   "id": "70652104",
   "metadata": {},
   "outputs": [],
   "source": [
    "char_count=[]\n",
    "for i in range(len(text_transform)):\n",
    "    char = text_transform[i].replace(' ', '')\n",
    "    char = len(char)\n",
    "    char_count.append(char)"
   ]
  },
  {
   "cell_type": "code",
   "execution_count": 123,
   "id": "dd965184",
   "metadata": {},
   "outputs": [
    {
     "data": {
      "text/plain": [
       "0"
      ]
     },
     "execution_count": 123,
     "metadata": {},
     "output_type": "execute_result"
    }
   ],
   "source": [
    "char_count[7]"
   ]
  },
  {
   "cell_type": "code",
   "execution_count": 138,
   "id": "3ac7eb50",
   "metadata": {
    "scrolled": true
   },
   "outputs": [],
   "source": [
    "avg_word_count = []\n",
    "for i in range(len(char_count)):\n",
    "    if words_count[i] == 0 | char_count[i]==0 :\n",
    "        AWC = 0\n",
    "        avg_word_count.append(AWC)\n",
    "    else:\n",
    "        AWC = char_count[i]/words_count[i]\n",
    "        avg_word_count.append(round(AWC))\n",
    "    "
   ]
  },
  {
   "cell_type": "code",
   "execution_count": 139,
   "id": "4e575250",
   "metadata": {},
   "outputs": [
    {
     "data": {
      "text/plain": [
       "9"
      ]
     },
     "execution_count": 139,
     "metadata": {},
     "output_type": "execute_result"
    }
   ],
   "source": [
    "avg_word_count[0]"
   ]
  },
  {
   "cell_type": "code",
   "execution_count": 125,
   "id": "db12afbb",
   "metadata": {},
   "outputs": [],
   "source": [
    "input['POSITIVE SCORE'] = positive_score"
   ]
  },
  {
   "cell_type": "code",
   "execution_count": 78,
   "id": "c2bf405c",
   "metadata": {},
   "outputs": [],
   "source": [
    "input['NEGATIVE SCORE'] = negative_score"
   ]
  },
  {
   "cell_type": "code",
   "execution_count": 80,
   "id": "6ae0f526",
   "metadata": {},
   "outputs": [],
   "source": [
    "input['POLARITY SCORE'] = polarity_score"
   ]
  },
  {
   "cell_type": "code",
   "execution_count": 82,
   "id": "d71a6534",
   "metadata": {},
   "outputs": [],
   "source": [
    "input['SUBJECTIVITY SCORE'] = subjectivity_score"
   ]
  },
  {
   "cell_type": "code",
   "execution_count": 92,
   "id": "0d2a9ef9",
   "metadata": {},
   "outputs": [],
   "source": [
    "input['PERCENTAGE OF COMPLEX WORDS'] = percentage_complex_word"
   ]
  },
  {
   "cell_type": "code",
   "execution_count": 93,
   "id": "230ebe47",
   "metadata": {},
   "outputs": [],
   "source": [
    "input['AVG SENTENCE LENGTH'] = average_sentence_lenght"
   ]
  },
  {
   "cell_type": "code",
   "execution_count": 144,
   "id": "5dd0ba62",
   "metadata": {},
   "outputs": [],
   "source": [
    "input['FOG INDEX'] = fog_index"
   ]
  },
  {
   "cell_type": "code",
   "execution_count": 98,
   "id": "0e0983c0",
   "metadata": {},
   "outputs": [],
   "source": [
    "input['AVG NUMBER OF WORDS PER SENTENCE'] = average_sentence_lenght"
   ]
  },
  {
   "cell_type": "code",
   "execution_count": 99,
   "id": "4f970d8a",
   "metadata": {},
   "outputs": [],
   "source": [
    "input['COMPLEX WORD COUNT'] = complex_word_count"
   ]
  },
  {
   "cell_type": "code",
   "execution_count": 152,
   "id": "a0fc98fc",
   "metadata": {},
   "outputs": [],
   "source": [
    "input['WORD COUNT'] = words_count"
   ]
  },
  {
   "cell_type": "code",
   "execution_count": 155,
   "id": "8be5eeac",
   "metadata": {},
   "outputs": [],
   "source": [
    "input['SYLLABLE PER WORD'] = syllable_count"
   ]
  },
  {
   "cell_type": "code",
   "execution_count": 106,
   "id": "6b6900d8",
   "metadata": {},
   "outputs": [],
   "source": [
    "input['PERSONAL PRONOUNS'] = presonal_pronoun"
   ]
  },
  {
   "cell_type": "code",
   "execution_count": 140,
   "id": "c8dae589",
   "metadata": {},
   "outputs": [],
   "source": [
    "input['AVG WORD LENGTH'] = avg_word_count"
   ]
  },
  {
   "cell_type": "code",
   "execution_count": 158,
   "id": "b599e6c1",
   "metadata": {},
   "outputs": [],
   "source": [
    "input.insert(2, 'TITLE', titles)"
   ]
  },
  {
   "cell_type": "code",
   "execution_count": 159,
   "id": "1ce16bf8",
   "metadata": {},
   "outputs": [
    {
     "data": {
      "text/html": [
       "<div>\n",
       "<style scoped>\n",
       "    .dataframe tbody tr th:only-of-type {\n",
       "        vertical-align: middle;\n",
       "    }\n",
       "\n",
       "    .dataframe tbody tr th {\n",
       "        vertical-align: top;\n",
       "    }\n",
       "\n",
       "    .dataframe thead th {\n",
       "        text-align: right;\n",
       "    }\n",
       "</style>\n",
       "<table border=\"1\" class=\"dataframe\">\n",
       "  <thead>\n",
       "    <tr style=\"text-align: right;\">\n",
       "      <th></th>\n",
       "      <th>URL_ID</th>\n",
       "      <th>URL</th>\n",
       "      <th>TITLE</th>\n",
       "      <th>POSITIVE SCORE</th>\n",
       "      <th>NEGATIVE SCORE</th>\n",
       "      <th>POLARITY SCORE</th>\n",
       "      <th>SUBJECTIVITY SCORE</th>\n",
       "      <th>AVG SENTENCE LENGTH</th>\n",
       "      <th>PERCENTAGE OF COMPLEX WORDS</th>\n",
       "      <th>FOG INDEX</th>\n",
       "      <th>AVG NUMBER OF WORDS PER SENTENCE</th>\n",
       "      <th>COMPLEX WORD COUNT</th>\n",
       "      <th>WORD COUNT</th>\n",
       "      <th>SYLLABLE PER WORD</th>\n",
       "      <th>PERSONAL PRONOUNS</th>\n",
       "      <th>AVG WORD LENGTH</th>\n",
       "    </tr>\n",
       "  </thead>\n",
       "  <tbody>\n",
       "    <tr>\n",
       "      <th>0</th>\n",
       "      <td>37</td>\n",
       "      <td>https://insights.blackcoffer.com/ai-in-healthcare-to-improve-patient-outcomes/</td>\n",
       "      <td>ai in healthcare to improve patient outcomes</td>\n",
       "      <td>82</td>\n",
       "      <td>36</td>\n",
       "      <td>0.389831</td>\n",
       "      <td>0.097925</td>\n",
       "      <td>16</td>\n",
       "      <td>0.434855</td>\n",
       "      <td>6.573942</td>\n",
       "      <td>16</td>\n",
       "      <td>524</td>\n",
       "      <td>1205</td>\n",
       "      <td>2735</td>\n",
       "      <td>[us]</td>\n",
       "      <td>9</td>\n",
       "    </tr>\n",
       "    <tr>\n",
       "      <th>1</th>\n",
       "      <td>38</td>\n",
       "      <td>https://insights.blackcoffer.com/what-if-the-creation-is-taking-over-the-creator/</td>\n",
       "      <td>what if the creation is taking over the creator</td>\n",
       "      <td>72</td>\n",
       "      <td>37</td>\n",
       "      <td>0.321101</td>\n",
       "      <td>0.131325</td>\n",
       "      <td>10</td>\n",
       "      <td>0.295181</td>\n",
       "      <td>4.118072</td>\n",
       "      <td>10</td>\n",
       "      <td>245</td>\n",
       "      <td>830</td>\n",
       "      <td>1642</td>\n",
       "      <td>[we, us, us, i, us, we, we]</td>\n",
       "      <td>9</td>\n",
       "    </tr>\n",
       "    <tr>\n",
       "      <th>2</th>\n",
       "      <td>39</td>\n",
       "      <td>https://insights.blackcoffer.com/what-jobs-will-robots-take-from-humans-in-the-future/</td>\n",
       "      <td>what jobs will robots take from humans in the future</td>\n",
       "      <td>74</td>\n",
       "      <td>36</td>\n",
       "      <td>0.345455</td>\n",
       "      <td>0.104265</td>\n",
       "      <td>12</td>\n",
       "      <td>0.433175</td>\n",
       "      <td>4.973270</td>\n",
       "      <td>12</td>\n",
       "      <td>457</td>\n",
       "      <td>1055</td>\n",
       "      <td>2465</td>\n",
       "      <td>[We, us, us]</td>\n",
       "      <td>9</td>\n",
       "    </tr>\n",
       "    <tr>\n",
       "      <th>3</th>\n",
       "      <td>40</td>\n",
       "      <td>https://insights.blackcoffer.com/will-machine-replace-the-human-in-the-future-of-work/</td>\n",
       "      <td>will machine replace the human in the future of work</td>\n",
       "      <td>86</td>\n",
       "      <td>28</td>\n",
       "      <td>0.508772</td>\n",
       "      <td>0.117163</td>\n",
       "      <td>10</td>\n",
       "      <td>0.345324</td>\n",
       "      <td>4.138129</td>\n",
       "      <td>10</td>\n",
       "      <td>336</td>\n",
       "      <td>973</td>\n",
       "      <td>1952</td>\n",
       "      <td>[us, we, us, we, we, we, we, we, we, we, we, we, we, we, we, we, we]</td>\n",
       "      <td>8</td>\n",
       "    </tr>\n",
       "    <tr>\n",
       "      <th>4</th>\n",
       "      <td>41</td>\n",
       "      <td>https://insights.blackcoffer.com/will-ai-replace-us-or-work-with-us/</td>\n",
       "      <td>will ai replace us or work with us</td>\n",
       "      <td>71</td>\n",
       "      <td>29</td>\n",
       "      <td>0.420000</td>\n",
       "      <td>0.090827</td>\n",
       "      <td>14</td>\n",
       "      <td>0.335150</td>\n",
       "      <td>5.734060</td>\n",
       "      <td>14</td>\n",
       "      <td>369</td>\n",
       "      <td>1101</td>\n",
       "      <td>2209</td>\n",
       "      <td>[us, We, we, we, we, we, us, us, we, we, We, We, us, We, us, us]</td>\n",
       "      <td>8</td>\n",
       "    </tr>\n",
       "  </tbody>\n",
       "</table>\n",
       "</div>"
      ],
      "text/plain": [
       "   URL_ID  \\\n",
       "0      37   \n",
       "1      38   \n",
       "2      39   \n",
       "3      40   \n",
       "4      41   \n",
       "\n",
       "                                                                                      URL  \\\n",
       "0          https://insights.blackcoffer.com/ai-in-healthcare-to-improve-patient-outcomes/   \n",
       "1       https://insights.blackcoffer.com/what-if-the-creation-is-taking-over-the-creator/   \n",
       "2  https://insights.blackcoffer.com/what-jobs-will-robots-take-from-humans-in-the-future/   \n",
       "3  https://insights.blackcoffer.com/will-machine-replace-the-human-in-the-future-of-work/   \n",
       "4                    https://insights.blackcoffer.com/will-ai-replace-us-or-work-with-us/   \n",
       "\n",
       "                                                  TITLE  POSITIVE SCORE  \\\n",
       "0          ai in healthcare to improve patient outcomes              82   \n",
       "1       what if the creation is taking over the creator              72   \n",
       "2  what jobs will robots take from humans in the future              74   \n",
       "3  will machine replace the human in the future of work              86   \n",
       "4                    will ai replace us or work with us              71   \n",
       "\n",
       "   NEGATIVE SCORE  POLARITY SCORE  SUBJECTIVITY SCORE  AVG SENTENCE LENGTH  \\\n",
       "0              36        0.389831            0.097925                   16   \n",
       "1              37        0.321101            0.131325                   10   \n",
       "2              36        0.345455            0.104265                   12   \n",
       "3              28        0.508772            0.117163                   10   \n",
       "4              29        0.420000            0.090827                   14   \n",
       "\n",
       "   PERCENTAGE OF COMPLEX WORDS  FOG INDEX  AVG NUMBER OF WORDS PER SENTENCE  \\\n",
       "0                     0.434855   6.573942                                16   \n",
       "1                     0.295181   4.118072                                10   \n",
       "2                     0.433175   4.973270                                12   \n",
       "3                     0.345324   4.138129                                10   \n",
       "4                     0.335150   5.734060                                14   \n",
       "\n",
       "   COMPLEX WORD COUNT  WORD COUNT  SYLLABLE PER WORD  \\\n",
       "0                 524        1205               2735   \n",
       "1                 245         830               1642   \n",
       "2                 457        1055               2465   \n",
       "3                 336         973               1952   \n",
       "4                 369        1101               2209   \n",
       "\n",
       "                                                      PERSONAL PRONOUNS  \\\n",
       "0                                                                  [us]   \n",
       "1                                           [we, us, us, i, us, we, we]   \n",
       "2                                                          [We, us, us]   \n",
       "3  [us, we, us, we, we, we, we, we, we, we, we, we, we, we, we, we, we]   \n",
       "4      [us, We, we, we, we, we, us, us, we, we, We, We, us, We, us, us]   \n",
       "\n",
       "   AVG WORD LENGTH  \n",
       "0                9  \n",
       "1                9  \n",
       "2                9  \n",
       "3                8  \n",
       "4                8  "
      ]
     },
     "execution_count": 159,
     "metadata": {},
     "output_type": "execute_result"
    }
   ],
   "source": [
    "input.head()"
   ]
  },
  {
   "cell_type": "code",
   "execution_count": 157,
   "id": "a051a908",
   "metadata": {},
   "outputs": [],
   "source": [
    "input.to_excel(\"Output Data Structure.xlsx\")"
   ]
  },
  {
   "cell_type": "code",
   "execution_count": null,
   "id": "7bffe3f7",
   "metadata": {},
   "outputs": [],
   "source": []
  },
  {
   "cell_type": "code",
   "execution_count": null,
   "id": "db31f593",
   "metadata": {},
   "outputs": [],
   "source": []
  }
 ],
 "metadata": {
  "kernelspec": {
   "display_name": "Python 3 (ipykernel)",
   "language": "python",
   "name": "python3"
  },
  "language_info": {
   "codemirror_mode": {
    "name": "ipython",
    "version": 3
   },
   "file_extension": ".py",
   "mimetype": "text/x-python",
   "name": "python",
   "nbconvert_exporter": "python",
   "pygments_lexer": "ipython3",
   "version": "3.10.9"
  }
 },
 "nbformat": 4,
 "nbformat_minor": 5
}
